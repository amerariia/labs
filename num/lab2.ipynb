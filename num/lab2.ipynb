{
 "cells": [
  {
   "cell_type": "code",
   "execution_count": 1,
   "metadata": {
    "collapsed": true
   },
   "outputs": [],
   "source": [
    "import numpy as np\n",
    "import scipy as sp\n",
    "import matplotlib.pyplot as plt\n",
    "from scipy.linalg import hilbert\n",
    "%matplotlib inline"
   ]
  },
  {
   "cell_type": "code",
   "execution_count": 2,
   "metadata": {
    "collapsed": true
   },
   "outputs": [],
   "source": [
    "RTOL = 0.\n",
    "ATOL = 1e-12\n",
    "SEED = 17"
   ]
  },
  {
   "cell_type": "markdown",
   "metadata": {},
   "source": [
    "## Linear systems\n",
    "\n",
    "<img src=\"https://i.ytimg.com/vi/7ujEpq7MWfE/maxresdefault.jpg\" width=\"400\" />\n",
    "\n",
    "Given square matrix $A_{nxn}$, and vector $\\mathbf{b}$, find such vector $\\mathbf{x}$ that $A \\cdot \\mathbf{x} = \\mathbf{b}$.\n",
    "\n",
    "### Example 1\n",
    "$$ \n",
    "\\begin{bmatrix} 10 & -1 & 2 & 0 \\\\ -1 & 11 & -1 & 3 \\\\ 2 & -1 & 10 & -1 \\\\ 0 & 3 & -1 & 8 \\end{bmatrix} \\cdot\n",
    "\\begin{bmatrix} x_1 \\\\ x_2 \\\\ x_3 \\\\ x_4 \\end{bmatrix} =\n",
    "\\begin{bmatrix} 6 \\\\ 25 \\\\ -11 \\\\ 15 \\end{bmatrix} \n",
    "$$\n",
    "Equation above can be rewritten as\n",
    "$$\n",
    "\\left\\{\n",
    "\\begin{aligned} \n",
    "10x_1 - x_2 + 2x_3 + 0x_4 &= 6 \\\\\n",
    "-x_1 + 11x_2 + -x_3 + 3x_4 &= 25 \\\\\n",
    "2x_1 - x_2 + 10x_3 - x_4 &= -11 \\\\\n",
    "0x_1 + 3x_2 - 2x_3 + 8x_4 &= 15\n",
    "\\end{aligned} \n",
    "\\right. \n",
    "$$\n",
    "\n",
    "We can easily check that $\\mathbf{x} = [1, 2, -1, 1]$ is a solution.\n",
    "\n",
    "This particular example has only one solution, but generaly speaking matrix equation can have **no, one or infinite number** of solutions. \n",
    "\n",
    "Some methods can found them all(eg. Gauss), but some can only converge to one solution(eg. Seidel, Jacobi).\n",
    "\n",
    "To start, let's define some helper functions"
   ]
  },
  {
   "cell_type": "code",
   "execution_count": 3,
   "metadata": {
    "collapsed": true
   },
   "outputs": [],
   "source": [
    "def is_square(a):\n",
    "    return a.shape[0] == a.shape[1]"
   ]
  },
  {
   "cell_type": "code",
   "execution_count": 4,
   "metadata": {
    "collapsed": true
   },
   "outputs": [],
   "source": [
    "def has_solutions(a, b):\n",
    "    return np.linalg.matrix_rank(a) == np.linalg.matrix_rank(np.append(a, b[np.newaxis].T, axis=1))"
   ]
  },
  {
   "cell_type": "markdown",
   "metadata": {},
   "source": [
    "### Diagonally dominance\n",
    "We say that matrix $A_{nxn}$ is **diagonally dominant** iff\n",
    "\n",
    "$$ |a_{ii}| \\geq \\sum_{j\\neq i} |a_{ij}|, \\quad \\forall i=1, n \\, $$\n",
    "\n",
    "equivalent\n",
    "\n",
    "$$ 2 \\cdot |a_{ii}| \\geq \\sum_{j = 1, n} |a_{ij}|, \\quad \\forall i=1, n \\, $$\n",
    "\n",
    "Also we say that matrix $A_{nxn}$ is **strictly diagonally dominant** iff it's diagonally dominant and\n",
    "\n",
    "$$ \\exists i : |a_{ii}| > \\sum_{j\\neq i} |a_{ij}|$$"
   ]
  },
  {
   "cell_type": "code",
   "execution_count": 5,
   "metadata": {
    "collapsed": false
   },
   "outputs": [],
   "source": [
    "def is_dominant(a):\n",
    "    return np.all(np.abs(a).sum(axis=1) <= 2 * np.abs(a).diagonal()) and \\\n",
    "        np.any(np.abs(a).sum(axis=1) < 2 * np.abs(a).diagonal())"
   ]
  },
  {
   "cell_type": "code",
   "execution_count": 6,
   "metadata": {
    "collapsed": true
   },
   "outputs": [],
   "source": [
    "def make_dominant(a):\n",
    "    for i in range(a.shape[0]):\n",
    "        a[i][i] = max(abs(a[i][i]), np.abs(a[i]).sum() - abs(a[i][i]) + 1)\n",
    "    return a"
   ]
  },
  {
   "cell_type": "markdown",
   "metadata": {},
   "source": [
    "**NOTE!** All *generate* functions will return already **strictly diagonally dominant** matrices "
   ]
  },
  {
   "cell_type": "code",
   "execution_count": 7,
   "metadata": {
    "collapsed": true
   },
   "outputs": [],
   "source": [
    "def generate_random(n):\n",
    "    np.random.seed(SEED)\n",
    "    return make_dominant(np.random.rand(n, n) * n), np.random.rand(n) * n"
   ]
  },
  {
   "cell_type": "code",
   "execution_count": 8,
   "metadata": {
    "collapsed": true
   },
   "outputs": [],
   "source": [
    "def generate_hilbert(n):\n",
    "    return make_dominant(sp.linalg.hilbert(n)), np.arange(1, n + 1, dtype=np.float)"
   ]
  },
  {
   "cell_type": "code",
   "execution_count": 9,
   "metadata": {
    "collapsed": true
   },
   "outputs": [],
   "source": [
    "def solve(a, b, debug=False):\n",
    "    return np.linalg.solve(a, b),"
   ]
  },
  {
   "cell_type": "markdown",
   "metadata": {},
   "source": [
    "### Gauss method\n",
    "\n",
    "To perform row reduction on a matrix, one uses a sequence of elementary row operations to modify the matrix until the lower left-hand corner of the matrix is filled with zeros, as much as possible. There are three types of elementary row operations: \n",
    "\n",
    " 1. Swapping two rows\n",
    " 2. Multiplying a row by a non-zero number\n",
    " 3. Adding a multiple of one row to another row. \n",
    "\n",
    "Using these operations, a matrix can always be transformed into an upper triangular matrix, and in fact one that is in row echelon form. Once all of the leading coefficients (the left-most non-zero entry in each row) are 1, and every column containing a leading coefficient has zeros elsewhere, the matrix is said to be in reduced row echelon form. This final form is unique; in other words, it is independent of the sequence of row operations used. For example, in the following sequence of row operations (where multiple elementary operations might be done at each step), the third and fourth matrices are the ones in row echelon form, and the final matrix is the unique reduced row echelon form.\n",
    "\n",
    "$$\\left[\\begin{array}{rrr|r}\n",
    "1 & 3 & 1 & 9 \\\\\n",
    "1 & 1 & -1 & 1 \\\\\n",
    "3 & 11 & 5 & 35\n",
    "\\end{array}\\right]\\to\n",
    "\\left[\\begin{array}{rrr|r}\n",
    "1 & 3 & 1 & 9 \\\\\n",
    "0 & -2 & -2 & -8 \\\\\n",
    "0 & 2 & 2 & 8\n",
    "\\end{array}\\right]\\to\n",
    "\\left[\\begin{array}{rrr|r}\n",
    "1 & 3 & 1 & 9 \\\\\n",
    "0 & -2 & -2 & -8 \\\\\n",
    "0 & 0 & 0 & 0\n",
    "\\end{array}\\right]\\to\n",
    "\\left[\\begin{array}{rrr|r}\n",
    "1 & 0 & -2 & -3 \\\\\n",
    "0 & 1 & 1 & 4 \\\\\n",
    "0 & 0 & 0 & 0\n",
    "\\end{array}\\right] $$\n",
    "\n",
    "Using row operations to convert a matrix into reduced row echelon form is sometimes called **Gauss–Jordan elimination**. Some authors use the term Gaussian elimination to refer to the process until it has reached its upper triangular, or (non-reduced) row echelon form. For computational reasons, when solving systems of linear equations, it is sometimes preferable to stop row operations before the matrix is completely reduced.\n"
   ]
  },
  {
   "cell_type": "code",
   "execution_count": 10,
   "metadata": {
    "collapsed": false
   },
   "outputs": [],
   "source": [
    "def gauss(a, b, debug=False):\n",
    "    assert is_square(a) and has_solutions(a, b)\n",
    "    \n",
    "    a = np.append(a.copy(), b[np.newaxis].T, axis=1)\n",
    "    i = 0\n",
    "    k = 0\n",
    "    while i < a.shape[0]:\n",
    "        r = np.argmax(a[i:, i]) + i\n",
    "        a[[i, r]] = a[[r, i]]\n",
    "        \n",
    "        if a[i][i] == 0:\n",
    "            break\n",
    "        \n",
    "        for j in range(a.shape[0]):\n",
    "            if j == i:\n",
    "                continue\n",
    "            a[j] -= (a[j][i] / a[i][i]) * a[i]\n",
    "        a[i] = a[i] / a[i][i]\n",
    "        i += 1\n",
    "        \n",
    "    assert np.count_nonzero(a[i:]) == 0\n",
    "    return a[:, -1],"
   ]
  },
  {
   "cell_type": "markdown",
   "metadata": {},
   "source": [
    "### Gauss-Seidel method\n",
    "\n",
    "The Gauss–Seidel method is an **iterative technique** for solving a square system of $n$ linear equations with unknown $x$:\n",
    "\n",
    "$$ A \\mathbf{x} = \\mathbf{b} $$\n",
    "\n",
    "It is defined by the iteration\n",
    "\n",
    "$$ L_* \\mathbf{x}^{(k+1)} = \\mathbf{b} - U \\mathbf{x}^{(k)}, $$\n",
    "\n",
    "where $\\mathbf{x}^{(k)}$ is the $k$-th approximation or iteration of $\\mathbf{x},\\,\\mathbf{x}^{k+1}$ is the next or $k + 1$ iteration of $\\mathbf{x}$, and the matrix $A$ is decomposed into a lower triangular component $L_*$, and a strictly upper triangular component $U: A = L_* + U $.\n",
    "\n",
    "In more detail, write out $A$, $\\mathbf{x}$ and $\\mathbf{b}$ in their components:\n",
    "\n",
    "$$A=\\begin{bmatrix} a_{11} & a_{12} & \\cdots & a_{1n} \\\\ a_{21} & a_{22} & \\cdots & a_{2n} \\\\ \\vdots & \\vdots & \\ddots & \\vdots \\\\a_{n1} & a_{n2} & \\cdots & a_{nn} \\end{bmatrix}, \\qquad  \\mathbf{x} = \\begin{bmatrix} x_{1} \\\\ x_2 \\\\ \\vdots \\\\ x_n \\end{bmatrix} , \\qquad  \\mathbf{b} = \\begin{bmatrix} b_{1} \\\\ b_2 \\\\ \\vdots \\\\ b_n \\end{bmatrix}.$$\n",
    "\n",
    "Then the decomposition of $A$ into its lower triangular component and its strictly upper triangular component is given by:\n",
    "\n",
    "$$A=L_*+U \\qquad \\text{where} \\qquad L_* = \\begin{bmatrix} a_{11} & 0 & \\cdots & 0 \\\\ a_{21} & a_{22} & \\cdots & 0 \\\\ \\vdots & \\vdots & \\ddots & \\vdots \\\\a_{n1} & a_{n2} & \\cdots & a_{nn} \\end{bmatrix}, \\quad U = \\begin{bmatrix} 0 & a_{12} & \\cdots & a_{1n} \\\\ 0 & 0 & \\cdots & a_{2n} \\\\ \\vdots & \\vdots & \\ddots & \\vdots \\\\0 & 0 & \\cdots & 0 \\end{bmatrix}.$$\n",
    "\n",
    "The system of linear equations may be rewritten as:\n",
    "\n",
    "$$L_* \\mathbf{x} = \\mathbf{b} - U \\mathbf{x} $$\n",
    "\n",
    "The Gauss–Seidel method now solves the left hand side of this expression for $\\mathbf{x}$, using previous value for $\\mathbf{x}$ on the right hand side. Analytically, this may be written as:\n",
    "\n",
    "$$ \\mathbf{x}^{(k+1)} = L_*^{-1} (\\mathbf{b} - U \\mathbf{x}^{(k)}). $$\n",
    "\n",
    "However, by taking advantage of the triangular form of $L_*$, the elements of $\\mathbf{x}^{(k + 1)}$ can be computed sequentially using **forward substitution**:\n",
    "\n",
    "$$ x^{(k+1)}_i  = \\frac{1}{a_{ii}} \\left(b_i - \\sum_{j=1}^{i-1}a_{ij}x^{(k+1)}_j - \\sum_{j=i+1}^{n}a_{ij}x^{(k)}_j \\right),\\quad i=1,2,\\dots,n. $$\n",
    "\n",
    "The procedure is generally continued until the changes made by an iteration are below some tolerance.\n"
   ]
  },
  {
   "cell_type": "code",
   "execution_count": 11,
   "metadata": {
    "collapsed": false
   },
   "outputs": [],
   "source": [
    "def seidel(a, b, x0 = None, limit=20000, debug=False):\n",
    "    assert is_square(a) and is_dominant(a) and has_solutions(a, b)\n",
    "    \n",
    "    if x0 is None:\n",
    "        x0 = np.zeros_like(b, dtype=np.float)\n",
    "    x = x0.copy()\n",
    "    for k in range(limit):\n",
    "        tx = x.copy()\n",
    "        for i in range(a.shape[0]):\n",
    "            x[i] = (b[i] - a[i, :].dot(x)) / a[i][i] + x[i]\n",
    "        if debug:\n",
    "            print(x)\n",
    "        if np.allclose(x, tx, atol=ATOL, rtol=RTOL):\n",
    "            return x, k\n",
    "    return x, limit"
   ]
  },
  {
   "cell_type": "markdown",
   "metadata": {},
   "source": [
    "### Jacobi method\n",
    "\n",
    "The Jacobi method is an **iterative technique** for solving a square system of $n$ linear equations with unknown $x$:\n",
    "\n",
    "$$ A \\mathbf{x} = \\mathbf{b} $$\n",
    "\n",
    "where\n",
    "\n",
    "$$A=\\begin{bmatrix} a_{11} & a_{12} & \\cdots & a_{1n} \\\\ a_{21} & a_{22} & \\cdots & a_{2n} \\\\ \\vdots & \\vdots & \\ddots & \\vdots \\\\a_{n1} & a_{n2} & \\cdots & a_{nn} \\end{bmatrix}, \\qquad  \\mathbf{x} = \\begin{bmatrix} x_{1} \\\\ x_2 \\\\ \\vdots \\\\ x_n \\end{bmatrix} , \\qquad  \\mathbf{b} = \\begin{bmatrix} b_{1} \\\\ b_2 \\\\ \\vdots \\\\ b_n \\end{bmatrix}.$$\n",
    "\n",
    "Then $A$ can be decomposed into a diagonal component $D$, and the remainder $R$:\n",
    "\n",
    "$$A=D+R \\qquad \\text{where} \\qquad D = \\begin{bmatrix} a_{11} & 0 & \\cdots & 0 \\\\ 0 & a_{22} & \\cdots & 0 \\\\ \\vdots & \\vdots & \\ddots & \\vdots \\\\0 & 0 & \\cdots & a_{nn} \\end{bmatrix} \\text{ and } R = \\begin{bmatrix} 0 & a_{12} & \\cdots & a_{1n} \\\\ a_{21} & 0 & \\cdots & a_{2n} \\\\ \\vdots & \\vdots & \\ddots & \\vdots \\\\ a_{n1} & a_{n2} & \\cdots & 0 \\end{bmatrix}. $$\n",
    "\n",
    "The solution is then obtained iteratively via\n",
    "$$ \\mathbf{x}^{(k+1)} = D^{-1} (\\mathbf{b} - R \\mathbf{x}^{(k)}), $$\n",
    "\n",
    "where $\\mathbf{x}^{(k)}$ is the $k$-th approximation or iteration of $\\mathbf{x}$ and $\\mathbf{x}^{(k+1)}$ is the next or $k + 1$ iteration of $\\mathbf{x}$. The element-based formula is thus:\n",
    "\n",
    "$$ x^{(k+1)}_i  = \\frac{1}{a_{ii}} \\left(b_i -\\sum_{j\\ne i}a_{ij}x^{(k)}_j\\right),\\quad i=1,2,\\ldots,n. $$\n",
    "\n",
    "The computation of $x_{i}^{(k+1)}$ requires each element in $\\mathbf{x}^k$ except itself. Unlike the Gauss–Seidel method, we can't overwrite $x_i^k$ with $x_i^{(k+1)}$, as that value will be needed by the rest of the computation. The minimum amount of storage is two vectors of size $n$."
   ]
  },
  {
   "cell_type": "code",
   "execution_count": 12,
   "metadata": {
    "collapsed": false
   },
   "outputs": [],
   "source": [
    "def jacobi(a, b, x0 = None, limit=20000, debug=False):\n",
    "    assert is_square(a) and is_dominant(a) and has_solutions(a, b)\n",
    "    \n",
    "    if x0 is None:\n",
    "        x0 = np.zeros_like(b, dtype=np.float)\n",
    "    x = x0.copy()\n",
    "    for k in range(limit):\n",
    "        tx = x.copy()\n",
    "        for i in range(a.shape[0]):\n",
    "            x[i] = (b[i] - a[i, :].dot(tx)) / a[i][i] + tx[i]\n",
    "        if debug:\n",
    "            print(x)\n",
    "        if np.allclose(x, tx, atol=ATOL, rtol=RTOL):\n",
    "            return x, k\n",
    "    return x, limit"
   ]
  },
  {
   "cell_type": "markdown",
   "metadata": {},
   "source": [
    "### Evaluation\n",
    "\n",
    "To evaluate algorithm we are going to calculate\n",
    "$$ score = || A \\cdot \\mathbf{x^*} - \\mathbf{b} || $$\n",
    "\n",
    "where $\\mathbf{x}^*$ is a result of algorithm."
   ]
  },
  {
   "cell_type": "code",
   "execution_count": 13,
   "metadata": {
    "collapsed": true
   },
   "outputs": [],
   "source": [
    "def norm(a, b, res):\n",
    "    return np.linalg.norm(a.dot(res) - b)"
   ]
  },
  {
   "cell_type": "code",
   "execution_count": 14,
   "metadata": {
    "collapsed": true
   },
   "outputs": [],
   "source": [
    "def run(method, a, b, verbose=False, **kwargs):\n",
    "    if not verbose:\n",
    "        print(\"-\" * 100)\n",
    "        print(method.__name__.upper())\n",
    "    res = method(a, b, **kwargs)\n",
    "    score = norm(a, b, res[0])\n",
    "    if not verbose:\n",
    "        print(\"res =\", res)\n",
    "        print(\"score =\", score)\n",
    "    return score"
   ]
  },
  {
   "cell_type": "markdown",
   "metadata": {},
   "source": [
    "## Back to examples\n",
    "### Example 1\n",
    "\n",
    "Do you remember example from the problem statement? Now, we are going to see how iterative algorithms converges for that example."
   ]
  },
  {
   "cell_type": "code",
   "execution_count": 15,
   "metadata": {
    "collapsed": false,
    "scrolled": false
   },
   "outputs": [
    {
     "name": "stdout",
     "output_type": "stream",
     "text": [
      "[[ 10.  -1.   2.   0.]\n",
      " [ -1.  11.  -1.   3.]\n",
      " [  2.  -1.  10.  -1.]\n",
      " [  0.   3.  -1.   8.]]\n",
      "b = [  6.  25. -11.  15.]\n",
      "----------------------------------------------------------------------------------------------------\n",
      "SOLVE\n",
      "res = (array([ 1.,  2., -1.,  1.]),)\n",
      "score = 0.0\n",
      "----------------------------------------------------------------------------------------------------\n",
      "GAUSS\n",
      "res = (array([ 1.,  2., -1.,  1.]),)\n",
      "score = 0.0\n",
      "----------------------------------------------------------------------------------------------------\n",
      "SEIDEL\n",
      "res = (array([ 1.,  2., -1.,  1.]), 13)\n",
      "score = 3.31290550548e-13\n",
      "----------------------------------------------------------------------------------------------------\n",
      "JACOBI\n",
      "res = (array([ 1.,  2., -1.,  1.]), 34)\n",
      "score = 2.92144767667e-12\n"
     ]
    }
   ],
   "source": [
    "a4 = np.array([[10., -1., 2., 0.],\n",
    "              [-1., 11., -1., 3.],\n",
    "              [2., -1., 10., -1.],\n",
    "              [0., 3., -1., 8.]])\n",
    "print(a4)\n",
    "b = np.array([6., 25., -11., 15.])\n",
    "print(\"b =\", b)\n",
    "\n",
    "_ = run(solve, a4, b)\n",
    "_ = run(gauss, a4, b)\n",
    "_ = run(seidel, a4, b)\n",
    "_ = run(jacobi, a4, b)"
   ]
  },
  {
   "cell_type": "markdown",
   "metadata": {},
   "source": [
    "### Seidel vs Jacobi\n",
    "Here is tricky example of linear system, when **Jacobi** method converges faster than **Gauss-Seidel**.\n",
    "\n",
    "As you will see, Jacobi needs only **1 iteration** to find an answer, while Gauss-Seidel needs **over 10 iterations** to find approximate solution."
   ]
  },
  {
   "cell_type": "code",
   "execution_count": 16,
   "metadata": {
    "collapsed": false,
    "scrolled": false
   },
   "outputs": [
    {
     "name": "stdout",
     "output_type": "stream",
     "text": [
      "[[ 1.       -0.125     0.03125   0.015625]\n",
      " [-0.5       2.        0.0625    0.03125 ]\n",
      " [-1.        0.25      4.        0.0625  ]\n",
      " [-1.        0.25      0.125     8.      ]]\n",
      "b = [  1.   4.  16.  64.]\n",
      "----------------------------------------------------------------------------------------------------\n",
      "SOLVE\n",
      "res = (array([ 1.,  2.,  4.,  8.]),)\n",
      "score = 1.42108547152e-14\n",
      "----------------------------------------------------------------------------------------------------\n",
      "GAUSS\n",
      "res = (array([ 1.,  2.,  4.,  8.]),)\n",
      "score = 1.42125893328e-14\n",
      "----------------------------------------------------------------------------------------------------\n",
      "SEIDEL\n",
      "res = (array([ 1.,  2.,  4.,  8.]), 10)\n",
      "score = 8.881784197e-16\n",
      "----------------------------------------------------------------------------------------------------\n",
      "JACOBI\n",
      "res = (array([ 1.,  2.,  4.,  8.]), 1)\n",
      "score = 0.0\n"
     ]
    }
   ],
   "source": [
    "a4 = np.array([[1., -1/8, 1/32, 1/64],\n",
    "              [-1/2, 2., 1/16, 1/32],\n",
    "              [-1., 1/4, 4., 1/16],\n",
    "              [-1., 1/4, 1/8, 8.]])\n",
    "print(a4)\n",
    "b = np.array([1., 4., 16., 64.])\n",
    "print(\"b =\", b)\n",
    "\n",
    "_ = run(solve, a4, b)\n",
    "_ = run(gauss, a4, b)\n",
    "_ = run(seidel, a4, b)\n",
    "_ = run(jacobi, a4, b)"
   ]
  },
  {
   "cell_type": "markdown",
   "metadata": {},
   "source": [
    "### Hilbert matrices\n",
    "\n",
    "Now, let's have a look at **Hilbert matrix**. It's said that non-iterative methods should do bad here. Proof?"
   ]
  },
  {
   "cell_type": "code",
   "execution_count": 17,
   "metadata": {
    "collapsed": false,
    "scrolled": true
   },
   "outputs": [
    {
     "name": "stdout",
     "output_type": "stream",
     "text": [
      "SOLVE = 2.30924651019e-11\n",
      "GAUSS = 2.85356368892e-11\n",
      "SEIDEL = 4.87050483505e-12\n",
      "JACOBI = 2.20288165302e-11\n"
     ]
    }
   ],
   "source": [
    "a, b = generate_hilbert(1000)\n",
    "\n",
    "print(\"SOLVE =\", run(solve, a, b, verbose=True))\n",
    "print(\"GAUSS =\", run(gauss, a, b, verbose=True))\n",
    "print(\"SEIDEL =\", run(seidel, a, b, x0=np.zeros_like(b, dtype=np.float), verbose=True))\n",
    "print(\"JACOBI =\", run(jacobi, a, b, x0=np.zeros_like(b, dtype=np.float), verbose=True))"
   ]
  },
  {
   "cell_type": "markdown",
   "metadata": {},
   "source": [
    "As we can see, it's true for huge $n>1000$, that direct methods works bad on Hilbert matrices. But how about the size of matrix? Is $n=500$ enough?"
   ]
  },
  {
   "cell_type": "code",
   "execution_count": 18,
   "metadata": {
    "collapsed": true
   },
   "outputs": [],
   "source": [
    "def plot_hilbert_score_by_matrix_size(method, sizes):\n",
    "    scores = np.zeros_like(sizes, dtype=np.float)\n",
    "    for i in range(len(sizes)):\n",
    "        a, b = generate_hilbert(sizes[i])\n",
    "        scores[i] = run(method, a, b, verbose=True)\n",
    "    plt.plot(sizes, scores, label=method.__name__)"
   ]
  },
  {
   "cell_type": "code",
   "execution_count": 19,
   "metadata": {
    "collapsed": false
   },
   "outputs": [
    {
     "data": {
      "image/png": "[encoded data removed]",
      "text/plain": [
       "<matplotlib.figure.Figure at 0x7ff5c8794e80>"
      ]
     },
     "metadata": {},
     "output_type": "display_data"
    }
   ],
   "source": [
    "sizes = np.linspace(1, 600, num=50, dtype=np.int)\n",
    "\n",
    "plt.figure(figsize=(15, 10))\n",
    "plot_hilbert_score_by_matrix_size(solve, sizes)\n",
    "plot_hilbert_score_by_matrix_size(gauss, sizes)\n",
    "plot_hilbert_score_by_matrix_size(seidel, sizes)\n",
    "plot_hilbert_score_by_matrix_size(jacobi, sizes)\n",
    "\n",
    "plt.title(\"Scores of different methods for Hilbert matrices\") \\\n",
    "   .set_fontsize(\"xx-large\")\n",
    "plt.xlabel(\"n\").set_fontsize(\"xx-large\")\n",
    "plt.ylabel(\"score\").set_fontsize(\"xx-large\")\n",
    "legend = plt.legend(loc=\"upper right\")\n",
    "for label in legend.get_texts():\n",
    "    label.set_fontsize(\"xx-large\")\n",
    "plt.show()"
   ]
  },
  {
   "cell_type": "markdown",
   "metadata": {},
   "source": [
    "### Random matrices\n",
    "\n",
    "It's time to test our methods on random generated matrices. \n",
    "\n",
    "To be deterministic, we are going to set seed equals to $17$ every time, we call *generate_random(...)*\n"
   ]
  },
  {
   "cell_type": "code",
   "execution_count": 20,
   "metadata": {
    "collapsed": false,
    "scrolled": false
   },
   "outputs": [
    {
     "name": "stdout",
     "output_type": "stream",
     "text": [
      "----------------------------------------------------------------------------------------------------\n",
      "SOLVE\n",
      "res = (array([-0.00449031,  0.02294164, -0.00977048,  0.05280079,  0.01981815,\n",
      "       -0.00741453, -0.00618963, -0.01628833,  0.05707874,  0.05046688,\n",
      "        0.05052913,  0.09124976,  0.02577862,  0.06852756,  0.00043723,\n",
      "        0.0701774 , -0.01765149, -0.02584028, -0.00838885,  0.03311334]),)\n",
      "score = 1.18913126803e-14\n",
      "----------------------------------------------------------------------------------------------------\n",
      "GAUSS\n",
      "res = (array([-0.00449031,  0.02294164, -0.00977048,  0.05280079,  0.01981815,\n",
      "       -0.00741453, -0.00618963, -0.01628833,  0.05707874,  0.05046688,\n",
      "        0.05052913,  0.09124976,  0.02577862,  0.06852756,  0.00043723,\n",
      "        0.0701774 , -0.01765149, -0.02584028, -0.00838885,  0.03311334]),)\n",
      "score = 1.04148151432e-14\n",
      "----------------------------------------------------------------------------------------------------\n",
      "SEIDEL\n",
      "res = (array([-0.00449031,  0.02294164, -0.00977048,  0.05280079,  0.01981815,\n",
      "       -0.00741453, -0.00618963, -0.01628833,  0.05707874,  0.05046688,\n",
      "        0.05052913,  0.09124976,  0.02577862,  0.06852756,  0.00043723,\n",
      "        0.0701774 , -0.01765149, -0.02584028, -0.00838885,  0.03311334]), 17)\n",
      "score = 1.19408030779e-10\n",
      "----------------------------------------------------------------------------------------------------\n",
      "JACOBI\n",
      "res = (array([-0.00449031,  0.02294164, -0.00977048,  0.05280079,  0.01981815,\n",
      "       -0.00741453, -0.00618963, -0.01628833,  0.05707874,  0.05046688,\n",
      "        0.05052913,  0.09124976,  0.02577862,  0.06852756,  0.00043723,\n",
      "        0.0701774 , -0.01765149, -0.02584028, -0.00838885,  0.03311334]), 4800)\n",
      "score = 8.90013592818e-10\n"
     ]
    }
   ],
   "source": [
    "a, b = generate_random(20)\n",
    "\n",
    "_ = run(solve, a, b)\n",
    "_ = run(gauss, a, b)\n",
    "_ = run(seidel, a, b)\n",
    "_ = run(jacobi, a, b)"
   ]
  },
  {
   "cell_type": "markdown",
   "metadata": {},
   "source": [
    "### Runtime\n",
    "Now, let's compare our methods by actual time running. \n",
    "\n",
    "To have more accurate results, we need to run them on large matrix(eg. random $200x200$)."
   ]
  },
  {
   "cell_type": "code",
   "execution_count": 21,
   "metadata": {
    "collapsed": false
   },
   "outputs": [
    {
     "name": "stdout",
     "output_type": "stream",
     "text": [
      "1000 loops, best of 3: 562 µs per loop\n",
      "10 loops, best of 3: 116 ms per loop\n",
      "100 loops, best of 3: 13 ms per loop\n",
      "1 loop, best of 3: 6.94 s per loop\n"
     ]
    }
   ],
   "source": [
    "a, b = generate_random(200)\n",
    "\n",
    "%timeit run(solve, a, b, verbose=True)\n",
    "%timeit run(gauss, a, b, verbose=True)\n",
    "%timeit run(seidel, a, b, verbose=True)\n",
    "%timeit run(jacobi, a, b, verbose=True)"
   ]
  },
  {
   "cell_type": "markdown",
   "metadata": {},
   "source": [
    "### Convergence speed\n",
    "\n",
    "We already have compared methods by accuracy and time, but how about speed. \n",
    "\n",
    "Now we are going to show what will be the error of method after some number of iterations. To be more clear we use **logarithmic x-scale**."
   ]
  },
  {
   "cell_type": "code",
   "execution_count": 22,
   "metadata": {
    "collapsed": false
   },
   "outputs": [],
   "source": [
    "def plot_convergence(method, a, b, limits):\n",
    "    scores = np.zeros_like(limits, dtype=np.float)\n",
    "    for i in range(len(limits)):\n",
    "        scores[i] = run(method, a, b, x0 = np.zeros_like(b, dtype=np.float), limit=limits[i], verbose=True)\n",
    "    plt.plot(limits, scores, label=method.__name__)"
   ]
  },
  {
   "cell_type": "code",
   "execution_count": 23,
   "metadata": {
    "collapsed": false
   },
   "outputs": [
    {
     "data": {
      "image/png": "[encoded data removed]",
      "text/plain": [
       "<matplotlib.figure.Figure at 0x7ff5c2b91128>"
      ]
     },
     "metadata": {},
     "output_type": "display_data"
    }
   ],
   "source": [
    "a, b = generate_random(15)\n",
    "limits = np.arange(0, 350)\n",
    "\n",
    "plt.figure(figsize=(15, 10))\n",
    "plot_convergence(seidel, a, b, limits)\n",
    "plot_convergence(jacobi, a, b, limits)\n",
    "plt.title(\"Convergence of Seidel/Jacobi methods for random matrix\").set_fontsize(\"xx-large\")\n",
    "plt.xlabel(\"n_iters\").set_fontsize(\"xx-large\")\n",
    "plt.ylabel(\"score\").set_fontsize(\"xx-large\")\n",
    "plt.xscale(\"log\")\n",
    "legend = plt.legend(loc=\"upper right\")\n",
    "for label in legend.get_texts():\n",
    "    label.set_fontsize(\"xx-large\")\n",
    "plt.show()"
   ]
  }
 ],
 "metadata": {
  "anaconda-cloud": {
   "attach-environment": true,
   "environment": "Root",
   "summary": "Lab 2 | Linear systems",
   "url": "https://anaconda.org/lionell/lab2"
  },
  "kernelspec": {
   "display_name": "Python [Root]",
   "language": "python",
   "name": "Python [Root]"
  },
  "language_info": {
   "codemirror_mode": {
    "name": "ipython",
    "version": 3
   },
   "file_extension": ".py",
   "mimetype": "text/x-python",
   "name": "python",
   "nbconvert_exporter": "python",
   "pygments_lexer": "ipython3",
   "version": "3.5.2"
  }
 },
 "nbformat": 4,
 "nbformat_minor": 0
}
