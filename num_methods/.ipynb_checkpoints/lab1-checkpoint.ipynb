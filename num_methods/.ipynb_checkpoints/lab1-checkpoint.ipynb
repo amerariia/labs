{
 "cells": [
  {
   "cell_type": "code",
   "execution_count": 1,
   "metadata": {
    "collapsed": true
   },
   "outputs": [],
   "source": [
    "import sympy as sp\n",
    "from sympy.plotting import plot\n",
    "%matplotlib inline \n",
    "\n",
    "sp.init_printing()"
   ]
  },
  {
   "cell_type": "markdown",
   "metadata": {},
   "source": [
    "# Лабораторна робота №1\n",
    "\n",
    "<img src=\"http://civil.engr.siu.edu/cheval/engr351/Images/ENGR351.jpg\" width=\"500px\" height=\"300px\" \\>\n",
    "\n",
    "\n",
    "### Умова задачі\n",
    "\n",
    "Задано функцію $f(x)$, потрібно знайти корінь цієї функції, тобто хоча б одне значення параметру $x=x_0$, при якому $f(x_0)=0$. Якщо такого значення не існує повернути $Null$.\n",
    "\n",
    "Розглянемо три різні методи розвязку даної задачі:\n",
    "\n",
    " 1. Метод дихотомії\n",
    " 2. Метод Нютона\n",
    " 3. Метод простої ітерації\n",
    " \n",
    "Кожен з цих методів має свої недоліки і переваги, тому немає однозначно найкращого методу для розвязання цїєї задачі.\n",
    "\n",
    "Для початку введемо декілька загальнопринятих позначень: $\\epsilon$ та $x$ як символи бібліотеки SymPy"
   ]
  },
  {
   "cell_type": "code",
   "execution_count": 2,
   "metadata": {
    "collapsed": false
   },
   "outputs": [],
   "source": [
    "EPS = sp.Rational(\"1e-4\")\n",
    "x = sp.Symbol(\"x\")"
   ]
  },
  {
   "cell_type": "markdown",
   "metadata": {},
   "source": [
    "Визначимо функцію $fun$, для якої ми збираємося шукати корінь"
   ]
  },
  {
   "cell_type": "code",
   "execution_count": 3,
   "metadata": {
    "collapsed": false
   },
   "outputs": [
    {
     "data": {
      "image/png": "[encoded data removed]",
      "text/plain": [
       "<matplotlib.figure.Figure at 0x7f51c8c89f60>"
      ]
     },
     "metadata": {},
     "output_type": "display_data"
    },
    {
     "data": {
      "text/plain": [
       "<sympy.plotting.plot.Plot at 0x7f51c8564e10>"
      ]
     },
     "execution_count": 3,
     "metadata": {},
     "output_type": "execute_result"
    }
   ],
   "source": [
    "fun = x * x + 2 * x\n",
    "plot(fun, (x, -5, 5))"
   ]
  },
  {
   "cell_type": "markdown",
   "metadata": {},
   "source": [
    "Та її похідну $der$, що необхідна для коректної роботи деяких методів"
   ]
  },
  {
   "cell_type": "code",
   "execution_count": 4,
   "metadata": {
    "collapsed": false
   },
   "outputs": [
    {
     "data": {
      "image/png": "[encoded data removed]",
      "text/plain": [
       "<matplotlib.figure.Figure at 0x7f51cba46128>"
      ]
     },
     "metadata": {},
     "output_type": "display_data"
    },
    {
     "data": {
      "text/plain": [
       "<sympy.plotting.plot.Plot at 0x7f51e11a7240>"
      ]
     },
     "execution_count": 4,
     "metadata": {},
     "output_type": "execute_result"
    }
   ],
   "source": [
    "der = sp.diff(fun, x)\n",
    "plot(der, (x, -5, 5))"
   ]
  },
  {
   "cell_type": "markdown",
   "metadata": {},
   "source": [
    "### Метод дихотомії"
   ]
  },
  {
   "cell_type": "code",
   "execution_count": 5,
   "metadata": {
    "collapsed": false
   },
   "outputs": [],
   "source": [
    "def dih(a, b, f=fun, eps=EPS):\n",
    "    print(\"[{}; {}]\".format(a, b))\n",
    "    \n",
    "    if f.subs(x, a) * f.subs(x, b) > 0:\n",
    "        return None\n",
    "    \n",
    "    if a > b:\n",
    "        a, b = b, a\n",
    "    \n",
    "    if b - a <= EPS / sp.Integer(2):\n",
    "        return a\n",
    "    \n",
    "    m = a + (b - a) / sp.Integer(2)\n",
    "    if f.subs(x, a) * f.subs(x, m) <= 0:\n",
    "        return dih(a, m, f, eps)\n",
    "    else:\n",
    "        return dih(m, b, f, eps)"
   ]
  },
  {
   "cell_type": "code",
   "execution_count": 6,
   "metadata": {
    "collapsed": false,
    "scrolled": true
   },
   "outputs": [
    {
     "name": "stdout",
     "output_type": "stream",
     "text": [
      "[0; 100]\n",
      "[0; 50]\n",
      "[0; 25]\n",
      "[0; 25/2]\n",
      "[0; 25/4]\n",
      "[0; 25/8]\n",
      "[0; 25/16]\n",
      "[0; 25/32]\n",
      "[0; 25/64]\n",
      "[0; 25/128]\n",
      "[0; 25/256]\n",
      "[0; 25/512]\n",
      "[0; 25/1024]\n",
      "[0; 25/2048]\n",
      "[0; 25/4096]\n",
      "[0; 25/8192]\n",
      "[0; 25/16384]\n",
      "[0; 25/32768]\n",
      "[0; 25/65536]\n",
      "[0; 25/131072]\n",
      "[0; 25/262144]\n",
      "[0; 25/524288]\n"
     ]
    },
    {
     "data": {
      "text/plain": [
       "'Result 0'"
      ]
     },
     "execution_count": 6,
     "metadata": {},
     "output_type": "execute_result"
    }
   ],
   "source": [
    "res = dih(a=0, b=100)\n",
    "\"Result {}\".format(sp.N(res, 10))"
   ]
  },
  {
   "cell_type": "markdown",
   "metadata": {},
   "source": [
    "### Метод Нютона"
   ]
  },
  {
   "cell_type": "code",
   "execution_count": 7,
   "metadata": {
    "collapsed": true
   },
   "outputs": [],
   "source": [
    "def newton(x0, f=fun, d=der, eps=EPS):\n",
    "    x1 = x0 - f.subs(x, x0) / d.subs(x, x0)\n",
    "    print(x1)\n",
    "    while abs(x1 - x0) > EPS / sp.Integer(2):\n",
    "        x0, x1 = x1, x1 - f.subs(x, x1) / d.subs(x, x1)\n",
    "        print(x1)\n",
    "    return x1"
   ]
  },
  {
   "cell_type": "code",
   "execution_count": 8,
   "metadata": {
    "collapsed": false,
    "scrolled": true
   },
   "outputs": [
    {
     "name": "stdout",
     "output_type": "stream",
     "text": [
      "1/4\n",
      "1/40\n",
      "1/3280\n",
      "1/21523360\n",
      "1/926510094425920\n"
     ]
    },
    {
     "data": {
      "text/plain": [
       "'Result 1.079319055E-15'"
      ]
     },
     "execution_count": 8,
     "metadata": {},
     "output_type": "execute_result"
    }
   ],
   "source": [
    "res = newton(x0=1)\n",
    "\"Result {}\".format(sp.N(res, 10))"
   ]
  },
  {
   "cell_type": "markdown",
   "metadata": {},
   "source": [
    "### Метод простої ітерації"
   ]
  },
  {
   "cell_type": "code",
   "execution_count": 9,
   "metadata": {
    "collapsed": false,
    "scrolled": true
   },
   "outputs": [
    {
     "data": {
      "image/png": "[encoded data removed]",
      "text/latex": [
       "$$- \\alpha \\left(x^{2} + 2 x\\right) + x$$"
      ],
      "text/plain": [
       "    ⎛ 2      ⎞    \n",
       "- α⋅⎝x  + 2⋅x⎠ + x"
      ]
     },
     "execution_count": 9,
     "metadata": {},
     "output_type": "execute_result"
    }
   ],
   "source": [
    "alpha = sp.Symbol(\"alpha\")\n",
    "h = x - fun * alpha\n",
    "h"
   ]
  },
  {
   "cell_type": "code",
   "execution_count": 10,
   "metadata": {
    "collapsed": true
   },
   "outputs": [],
   "source": [
    "def simple(x0, alpha, f=fun, eps=EPS):\n",
    "    h = x - alpha * f\n",
    "    x1 = h.subs(x, x0)\n",
    "    print(\"[{}; {}]\".format(x0, x1))\n",
    "    while abs(x1 - x0) > EPS / sp.Integer(2):\n",
    "        x0, x1 = x1, h.subs(x, x1)\n",
    "        print(\"[{}; {}]\".format(x0, x1))\n",
    "    return x1"
   ]
  },
  {
   "cell_type": "code",
   "execution_count": 11,
   "metadata": {
    "collapsed": false
   },
   "outputs": [
    {
     "name": "stdout",
     "output_type": "stream",
     "text": [
      "[-3; -1.50000000000000]\n",
      "[-1.50000000000000; -1.87500000000000]\n",
      "[-1.87500000000000; -1.99218750000000]\n",
      "[-1.99218750000000; -1.99996948242188]\n",
      "[-1.99996948242188; -1.99999999953434]\n"
     ]
    },
    {
     "data": {
      "text/plain": [
       "'Result -2.000000000'"
      ]
     },
     "execution_count": 11,
     "metadata": {},
     "output_type": "execute_result"
    }
   ],
   "source": [
    "res = simple(x0=-3, alpha=-1/2)\n",
    "\"Result {}\".format(sp.N(res, 10))"
   ]
  }
 ],
 "metadata": {
  "anaconda-cloud": {
   "attach-environment": true,
   "environment": "Root",
   "summary": "Lab 1 | Numerical methods",
   "url": "https://anaconda.org/lionell/lab1"
  },
  "kernelspec": {
   "display_name": "Python [Root]",
   "language": "python",
   "name": "Python [Root]"
  },
  "language_info": {
   "codemirror_mode": {
    "name": "ipython",
    "version": 3
   },
   "file_extension": ".py",
   "mimetype": "text/x-python",
   "name": "python",
   "nbconvert_exporter": "python",
   "pygments_lexer": "ipython3",
   "version": "3.5.2"
  }
 },
 "nbformat": 4,
 "nbformat_minor": 0
}
